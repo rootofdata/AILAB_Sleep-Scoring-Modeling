{
 "cells": [
  {
   "cell_type": "code",
   "execution_count": 1,
   "metadata": {},
   "outputs": [],
   "source": [
    "import pandas as pd"
   ]
  },
  {
   "cell_type": "code",
   "execution_count": 2,
   "metadata": {},
   "outputs": [],
   "source": [
    "folder='C:/Users/dudtj/OneDrive - 숭실대학교 - Soongsil University/Desktop/AI데이터연구단/뇌파 및 수면상태 연구/Wearable/삼성헬스/samsunghealth_goodcha46_202111011406/필요/'\n",
    "df1=pd.read_csv(folder+'com.samsung.health.device_profile.202111011406.csv',encoding='utf-8',skiprows=1)"
   ]
  },
  {
   "cell_type": "code",
   "execution_count": 3,
   "metadata": {},
   "outputs": [],
   "source": [
    "df2=pd.read_csv(folder+'com.samsung.health.ecg.202111011406.csv',encoding='utf-8',skiprows=1)\n",
    "df3=pd.read_csv(folder+'com.samsung.health.floors_climbed.202111011406.csv',encoding='utf-8',skiprows=1)\n",
    "df4=pd.read_csv(folder+'com.samsung.health.nutrition.202111011406.csv',encoding='utf-8',skiprows=1)\n",
    "df5=pd.read_csv(folder+'com.samsung.health.weight.202111011406.csv',encoding='utf-8',skiprows=1)\n",
    "df6=pd.read_csv(folder+'com.samsung.shealth.activity_level.202111011406.csv',encoding='utf-8',skiprows=1)\n",
    "df7=pd.read_csv(folder+'com.samsung.shealth.activity.day_summary.202111011406.csv',encoding='utf-8',skiprows=1)\n",
    "df8=pd.read_csv(folder+'com.samsung.shealth.blood_pressure.202111011406.csv',encoding='utf-8',skiprows=1)\n",
    "df9=pd.read_csv(folder+'com.samsung.shealth.caloric_balance_goal.202111011406.csv',encoding='utf-8',skiprows=1)\n",
    "df10=pd.read_csv(folder+'com.samsung.shealth.calories_burned.details.202111011406.csv',encoding='utf-8',skiprows=1)\n",
    "df11=pd.read_csv(folder+'com.samsung.shealth.exercise.202111011406.csv',encoding='utf-8',skiprows=1)\n",
    "df12=pd.read_csv(folder+'com.samsung.shealth.food_frequent.202111011406.csv',encoding='utf-8',skiprows=1)\n",
    "df13=pd.read_csv(folder+'com.samsung.shealth.food_goal.202111011406.csv',encoding='utf-8',skiprows=1)\n",
    "df14=pd.read_csv(folder+'com.samsung.shealth.goal.202111011406.csv',encoding='utf-8',skiprows=1)\n",
    "df15=pd.read_csv(folder+'com.samsung.shealth.step_daily_trend.202111011406.csv',encoding='utf-8',skiprows=1)\n",
    "df16=pd.read_csv(folder+'com.samsung.shealth.tracker.heart_rate.202111011406.csv',encoding='utf-8',skiprows=1)\n",
    "df17=pd.read_csv(folder+'com.samsung.shealth.tracker.oxygen_saturation.202111011406.csv',encoding='utf-8',skiprows=1)\n",
    "df18=pd.read_csv(folder+'com.samsung.shealth.tracker.pedometer_day_summary.202111011406.csv',encoding='utf-8',skiprows=1)\n",
    "df19=pd.read_csv(folder+'com.samsung.shealth.tracker.pedometer_step_count.202111011406.csv',encoding='utf-8',skiprows=1)\n",
    "\n"
   ]
  },
  {
   "cell_type": "code",
   "execution_count": 4,
   "metadata": {},
   "outputs": [],
   "source": [
    "#sleep과 관련된 파일들 추출\n",
    "sleep_stage=pd.read_csv(folder+'com.samsung.health.sleep_stage.202111011406.csv',encoding='utf-8',header=1)\n",
    "sleep_combined=pd.read_csv(folder+'com.samsung.shealth.sleep_combined.202111011406.csv',encoding='utf-8',skiprows=1) #9개\n",
    "sleep_data=pd.read_csv(folder+'com.samsung.shealth.sleep_data.202111011406.csv',encoding='utf-8',skiprows=1) #2개\n",
    "sleep_snoring=pd.read_csv(folder+'com.samsung.shealth.sleep_snoring.202111011406.csv',encoding='utf-8',skiprows=1) \n",
    "sleep=pd.read_csv(folder+'com.samsung.shealth.sleep.202111011406.csv',encoding='utf-8',skiprows=1)"
   ]
  },
  {
   "cell_type": "code",
   "execution_count": 5,
   "metadata": {},
   "outputs": [],
   "source": [
    "# 인덱스 명 변경\n",
    "sleep_stage=sleep_stage.reset_index()\n",
    "sleep_stage=sleep_stage.shift(periods=1,axis=1)\n",
    "sleep_combined=sleep_combined.reset_index()\n",
    "sleep_combined=sleep_combined.shift(periods=1,axis=1)\n",
    "sleep_data=sleep_data.reset_index()\n",
    "sleep_data=sleep_data.shift(periods=1,axis=1)\n",
    "sleep_snoring=sleep_snoring.reset_index()\n",
    "sleep_snoring=sleep_snoring.shift(periods=1,axis=1)\n",
    "sleep=sleep.reset_index()\n",
    "sleep=sleep.shift(periods=1,axis=1)"
   ]
  },
  {
   "cell_type": "code",
   "execution_count": 6,
   "metadata": {},
   "outputs": [],
   "source": [
    "#sleep에서의 start time명 변경\n",
    "sleep.rename(columns={'com.samsung.health.sleep.start_time':'start_time'},inplace=True)\n",
    "#sleep"
   ]
  },
  {
   "cell_type": "code",
   "execution_count": 7,
   "metadata": {},
   "outputs": [],
   "source": [
    "sleep_stage=sleep_stage.sort_values(by=['start_time'],axis=0)"
   ]
  },
  {
   "cell_type": "code",
   "execution_count": 8,
   "metadata": {},
   "outputs": [
    {
     "data": {
      "text/plain": [
       "pandas.core.series.Series"
      ]
     },
     "execution_count": 8,
     "metadata": {},
     "output_type": "execute_result"
    }
   ],
   "source": [
    "type(sleep_stage[\"start_time\"])\n",
    "a=pd.to_datetime(sleep_stage[\"start_time\"])\n",
    "type(a)"
   ]
  },
  {
   "cell_type": "code",
   "execution_count": 9,
   "metadata": {},
   "outputs": [
    {
     "data": {
      "text/plain": [
       "0      2021-09-30 14:15:00\n",
       "1      2021-09-30 14:31:00\n",
       "11     2021-09-30 14:32:00\n",
       "28     2021-09-30 14:48:00\n",
       "16     2021-09-30 15:01:00\n",
       "               ...        \n",
       "1674   2021-10-31 20:58:00\n",
       "1677   2021-10-31 20:59:00\n",
       "1682   2021-10-31 21:11:00\n",
       "1685   2021-10-31 21:24:00\n",
       "1689   2021-10-31 21:44:00\n",
       "Name: start_time, Length: 1873, dtype: datetime64[ns]"
      ]
     },
     "execution_count": 9,
     "metadata": {},
     "output_type": "execute_result"
    }
   ],
   "source": [
    "from datetime import datetime\n",
    "pd.to_datetime(sleep_stage[\"start_time\"])"
   ]
  },
  {
   "cell_type": "code",
   "execution_count": 10,
   "metadata": {},
   "outputs": [],
   "source": [
    "import matplotlib.pyplot as plt\n",
    "from datetime import datetime, timedelta"
   ]
  },
  {
   "cell_type": "code",
   "execution_count": 11,
   "metadata": {},
   "outputs": [],
   "source": [
    "sleep_stage['change_time']=pd.to_datetime(sleep_stage['start_time'])"
   ]
  },
  {
   "cell_type": "code",
   "execution_count": 12,
   "metadata": {},
   "outputs": [
    {
     "data": {
      "text/html": [
       "<div>\n",
       "<style scoped>\n",
       "    .dataframe tbody tr th:only-of-type {\n",
       "        vertical-align: middle;\n",
       "    }\n",
       "\n",
       "    .dataframe tbody tr th {\n",
       "        vertical-align: top;\n",
       "    }\n",
       "\n",
       "    .dataframe thead th {\n",
       "        text-align: right;\n",
       "    }\n",
       "</style>\n",
       "<table border=\"1\" class=\"dataframe\">\n",
       "  <thead>\n",
       "    <tr style=\"text-align: right;\">\n",
       "      <th></th>\n",
       "      <th>index</th>\n",
       "      <th>start_time</th>\n",
       "      <th>sleep_id</th>\n",
       "      <th>custom</th>\n",
       "      <th>update_time</th>\n",
       "      <th>create_time</th>\n",
       "      <th>stage</th>\n",
       "      <th>time_offset</th>\n",
       "      <th>deviceuuid</th>\n",
       "      <th>pkg_name</th>\n",
       "      <th>end_time</th>\n",
       "      <th>datauuid</th>\n",
       "      <th>change_time</th>\n",
       "    </tr>\n",
       "  </thead>\n",
       "  <tbody>\n",
       "    <tr>\n",
       "      <th>0</th>\n",
       "      <td>NaN</td>\n",
       "      <td>2021-09-30 14:15:00.000</td>\n",
       "      <td>936eb40a-a8c7-49b8-90c1-9e2450863b03</td>\n",
       "      <td>NaN</td>\n",
       "      <td>2021-10-01 01:43:47.929</td>\n",
       "      <td>2021-10-01 01:43:47.929</td>\n",
       "      <td>40002</td>\n",
       "      <td>UTC+0900</td>\n",
       "      <td>6fPiwL19M5</td>\n",
       "      <td>com.sec.android.app.shealth</td>\n",
       "      <td>2021-09-30 14:31:00.000</td>\n",
       "      <td>28f708e2-f618-4746-9aac-07fcffedb2b0</td>\n",
       "      <td>2021-09-30 14:15:00</td>\n",
       "    </tr>\n",
       "    <tr>\n",
       "      <th>1</th>\n",
       "      <td>NaN</td>\n",
       "      <td>2021-09-30 14:31:00.000</td>\n",
       "      <td>936eb40a-a8c7-49b8-90c1-9e2450863b03</td>\n",
       "      <td>NaN</td>\n",
       "      <td>2021-10-01 01:43:47.944</td>\n",
       "      <td>2021-10-01 01:43:47.944</td>\n",
       "      <td>40001</td>\n",
       "      <td>UTC+0900</td>\n",
       "      <td>6fPiwL19M5</td>\n",
       "      <td>com.sec.android.app.shealth</td>\n",
       "      <td>2021-09-30 14:32:00.000</td>\n",
       "      <td>c0d1a5c0-4d38-4d40-ac65-4777f886e84b</td>\n",
       "      <td>2021-09-30 14:31:00</td>\n",
       "    </tr>\n",
       "    <tr>\n",
       "      <th>11</th>\n",
       "      <td>NaN</td>\n",
       "      <td>2021-09-30 14:32:00.000</td>\n",
       "      <td>936eb40a-a8c7-49b8-90c1-9e2450863b03</td>\n",
       "      <td>NaN</td>\n",
       "      <td>2021-10-01 01:43:47.987</td>\n",
       "      <td>2021-10-01 01:43:47.987</td>\n",
       "      <td>40002</td>\n",
       "      <td>UTC+0900</td>\n",
       "      <td>6fPiwL19M5</td>\n",
       "      <td>com.sec.android.app.shealth</td>\n",
       "      <td>2021-09-30 14:48:00.000</td>\n",
       "      <td>6942b41c-95e0-4fdf-8a87-0dce28752933</td>\n",
       "      <td>2021-09-30 14:32:00</td>\n",
       "    </tr>\n",
       "    <tr>\n",
       "      <th>28</th>\n",
       "      <td>NaN</td>\n",
       "      <td>2021-09-30 14:48:00.000</td>\n",
       "      <td>936eb40a-a8c7-49b8-90c1-9e2450863b03</td>\n",
       "      <td>NaN</td>\n",
       "      <td>2021-10-01 01:43:48.013</td>\n",
       "      <td>2021-10-01 01:43:48.013</td>\n",
       "      <td>40003</td>\n",
       "      <td>UTC+0900</td>\n",
       "      <td>6fPiwL19M5</td>\n",
       "      <td>com.sec.android.app.shealth</td>\n",
       "      <td>2021-09-30 15:01:00.000</td>\n",
       "      <td>245f78f5-8e21-48a7-97ad-dfcf5f0c97a1</td>\n",
       "      <td>2021-09-30 14:48:00</td>\n",
       "    </tr>\n",
       "    <tr>\n",
       "      <th>16</th>\n",
       "      <td>NaN</td>\n",
       "      <td>2021-09-30 15:01:00.000</td>\n",
       "      <td>936eb40a-a8c7-49b8-90c1-9e2450863b03</td>\n",
       "      <td>NaN</td>\n",
       "      <td>2021-10-01 01:43:48.043</td>\n",
       "      <td>2021-10-01 01:43:48.043</td>\n",
       "      <td>40002</td>\n",
       "      <td>UTC+0900</td>\n",
       "      <td>6fPiwL19M5</td>\n",
       "      <td>com.sec.android.app.shealth</td>\n",
       "      <td>2021-09-30 15:06:00.000</td>\n",
       "      <td>c7510319-4992-4ae2-bf10-42e58649ad5f</td>\n",
       "      <td>2021-09-30 15:01:00</td>\n",
       "    </tr>\n",
       "  </tbody>\n",
       "</table>\n",
       "</div>"
      ],
      "text/plain": [
       "   index               start_time                              sleep_id  \\\n",
       "0    NaN  2021-09-30 14:15:00.000  936eb40a-a8c7-49b8-90c1-9e2450863b03   \n",
       "1    NaN  2021-09-30 14:31:00.000  936eb40a-a8c7-49b8-90c1-9e2450863b03   \n",
       "11   NaN  2021-09-30 14:32:00.000  936eb40a-a8c7-49b8-90c1-9e2450863b03   \n",
       "28   NaN  2021-09-30 14:48:00.000  936eb40a-a8c7-49b8-90c1-9e2450863b03   \n",
       "16   NaN  2021-09-30 15:01:00.000  936eb40a-a8c7-49b8-90c1-9e2450863b03   \n",
       "\n",
       "    custom              update_time              create_time  stage  \\\n",
       "0      NaN  2021-10-01 01:43:47.929  2021-10-01 01:43:47.929  40002   \n",
       "1      NaN  2021-10-01 01:43:47.944  2021-10-01 01:43:47.944  40001   \n",
       "11     NaN  2021-10-01 01:43:47.987  2021-10-01 01:43:47.987  40002   \n",
       "28     NaN  2021-10-01 01:43:48.013  2021-10-01 01:43:48.013  40003   \n",
       "16     NaN  2021-10-01 01:43:48.043  2021-10-01 01:43:48.043  40002   \n",
       "\n",
       "   time_offset  deviceuuid                     pkg_name  \\\n",
       "0     UTC+0900  6fPiwL19M5  com.sec.android.app.shealth   \n",
       "1     UTC+0900  6fPiwL19M5  com.sec.android.app.shealth   \n",
       "11    UTC+0900  6fPiwL19M5  com.sec.android.app.shealth   \n",
       "28    UTC+0900  6fPiwL19M5  com.sec.android.app.shealth   \n",
       "16    UTC+0900  6fPiwL19M5  com.sec.android.app.shealth   \n",
       "\n",
       "                   end_time                              datauuid  \\\n",
       "0   2021-09-30 14:31:00.000  28f708e2-f618-4746-9aac-07fcffedb2b0   \n",
       "1   2021-09-30 14:32:00.000  c0d1a5c0-4d38-4d40-ac65-4777f886e84b   \n",
       "11  2021-09-30 14:48:00.000  6942b41c-95e0-4fdf-8a87-0dce28752933   \n",
       "28  2021-09-30 15:01:00.000  245f78f5-8e21-48a7-97ad-dfcf5f0c97a1   \n",
       "16  2021-09-30 15:06:00.000  c7510319-4992-4ae2-bf10-42e58649ad5f   \n",
       "\n",
       "           change_time  \n",
       "0  2021-09-30 14:15:00  \n",
       "1  2021-09-30 14:31:00  \n",
       "11 2021-09-30 14:32:00  \n",
       "28 2021-09-30 14:48:00  \n",
       "16 2021-09-30 15:01:00  "
      ]
     },
     "execution_count": 12,
     "metadata": {},
     "output_type": "execute_result"
    }
   ],
   "source": [
    "sleep_stage.head()"
   ]
  },
  {
   "cell_type": "code",
   "execution_count": 13,
   "metadata": {},
   "outputs": [
    {
     "data": {
      "text/plain": [
       "0      2021-09-30 14:15:00\n",
       "1      2021-09-30 14:31:00\n",
       "11     2021-09-30 14:32:00\n",
       "28     2021-09-30 14:48:00\n",
       "16     2021-09-30 15:01:00\n",
       "               ...        \n",
       "1674   2021-10-31 20:58:00\n",
       "1677   2021-10-31 20:59:00\n",
       "1682   2021-10-31 21:11:00\n",
       "1685   2021-10-31 21:24:00\n",
       "1689   2021-10-31 21:44:00\n",
       "Name: change_time, Length: 1873, dtype: datetime64[ns]"
      ]
     },
     "execution_count": 13,
     "metadata": {},
     "output_type": "execute_result"
    }
   ],
   "source": [
    "sleep_stage['change_time']"
   ]
  },
  {
   "cell_type": "code",
   "execution_count": 14,
   "metadata": {},
   "outputs": [],
   "source": [
    "sleep_stage['change_time'] = pd.DatetimeIndex(sleep_stage['change_time']) + timedelta(hours=9)"
   ]
  },
  {
   "cell_type": "code",
   "execution_count": 15,
   "metadata": {},
   "outputs": [
    {
     "data": {
      "text/plain": [
       "0      2021-09-30 23:15:00\n",
       "1      2021-09-30 23:31:00\n",
       "11     2021-09-30 23:32:00\n",
       "28     2021-09-30 23:48:00\n",
       "16     2021-10-01 00:01:00\n",
       "               ...        \n",
       "1674   2021-11-01 05:58:00\n",
       "1677   2021-11-01 05:59:00\n",
       "1682   2021-11-01 06:11:00\n",
       "1685   2021-11-01 06:24:00\n",
       "1689   2021-11-01 06:44:00\n",
       "Name: change_time, Length: 1873, dtype: datetime64[ns]"
      ]
     },
     "execution_count": 15,
     "metadata": {},
     "output_type": "execute_result"
    }
   ],
   "source": [
    "sleep_stage['change_time']"
   ]
  },
  {
   "cell_type": "code",
   "execution_count": 16,
   "metadata": {},
   "outputs": [
    {
     "data": {
      "text/html": [
       "<div>\n",
       "<style scoped>\n",
       "    .dataframe tbody tr th:only-of-type {\n",
       "        vertical-align: middle;\n",
       "    }\n",
       "\n",
       "    .dataframe tbody tr th {\n",
       "        vertical-align: top;\n",
       "    }\n",
       "\n",
       "    .dataframe thead th {\n",
       "        text-align: right;\n",
       "    }\n",
       "</style>\n",
       "<table border=\"1\" class=\"dataframe\">\n",
       "  <thead>\n",
       "    <tr style=\"text-align: right;\">\n",
       "      <th></th>\n",
       "      <th>start_time</th>\n",
       "      <th>end_time</th>\n",
       "      <th>sleep_id</th>\n",
       "      <th>stage</th>\n",
       "      <th>datauuid</th>\n",
       "    </tr>\n",
       "    <tr>\n",
       "      <th>change_time</th>\n",
       "      <th></th>\n",
       "      <th></th>\n",
       "      <th></th>\n",
       "      <th></th>\n",
       "      <th></th>\n",
       "    </tr>\n",
       "  </thead>\n",
       "  <tbody>\n",
       "    <tr>\n",
       "      <th>2021-09-30 23:15:00</th>\n",
       "      <td>2021-09-30 14:15:00.000</td>\n",
       "      <td>2021-09-30 14:31:00.000</td>\n",
       "      <td>936eb40a-a8c7-49b8-90c1-9e2450863b03</td>\n",
       "      <td>40002</td>\n",
       "      <td>28f708e2-f618-4746-9aac-07fcffedb2b0</td>\n",
       "    </tr>\n",
       "    <tr>\n",
       "      <th>2021-09-30 23:31:00</th>\n",
       "      <td>2021-09-30 14:31:00.000</td>\n",
       "      <td>2021-09-30 14:32:00.000</td>\n",
       "      <td>936eb40a-a8c7-49b8-90c1-9e2450863b03</td>\n",
       "      <td>40001</td>\n",
       "      <td>c0d1a5c0-4d38-4d40-ac65-4777f886e84b</td>\n",
       "    </tr>\n",
       "    <tr>\n",
       "      <th>2021-09-30 23:32:00</th>\n",
       "      <td>2021-09-30 14:32:00.000</td>\n",
       "      <td>2021-09-30 14:48:00.000</td>\n",
       "      <td>936eb40a-a8c7-49b8-90c1-9e2450863b03</td>\n",
       "      <td>40002</td>\n",
       "      <td>6942b41c-95e0-4fdf-8a87-0dce28752933</td>\n",
       "    </tr>\n",
       "    <tr>\n",
       "      <th>2021-09-30 23:48:00</th>\n",
       "      <td>2021-09-30 14:48:00.000</td>\n",
       "      <td>2021-09-30 15:01:00.000</td>\n",
       "      <td>936eb40a-a8c7-49b8-90c1-9e2450863b03</td>\n",
       "      <td>40003</td>\n",
       "      <td>245f78f5-8e21-48a7-97ad-dfcf5f0c97a1</td>\n",
       "    </tr>\n",
       "    <tr>\n",
       "      <th>2021-10-01 00:01:00</th>\n",
       "      <td>2021-09-30 15:01:00.000</td>\n",
       "      <td>2021-09-30 15:06:00.000</td>\n",
       "      <td>936eb40a-a8c7-49b8-90c1-9e2450863b03</td>\n",
       "      <td>40002</td>\n",
       "      <td>c7510319-4992-4ae2-bf10-42e58649ad5f</td>\n",
       "    </tr>\n",
       "    <tr>\n",
       "      <th>...</th>\n",
       "      <td>...</td>\n",
       "      <td>...</td>\n",
       "      <td>...</td>\n",
       "      <td>...</td>\n",
       "      <td>...</td>\n",
       "    </tr>\n",
       "    <tr>\n",
       "      <th>2021-11-01 05:58:00</th>\n",
       "      <td>2021-10-31 20:58:00.000</td>\n",
       "      <td>2021-10-31 20:59:00.000</td>\n",
       "      <td>9efd7639-0ac6-4f4e-9f78-4694ae5c9578</td>\n",
       "      <td>40001</td>\n",
       "      <td>ebee3359-cc1c-4470-bb20-a7ecaca18ef4</td>\n",
       "    </tr>\n",
       "    <tr>\n",
       "      <th>2021-11-01 05:59:00</th>\n",
       "      <td>2021-10-31 20:59:00.000</td>\n",
       "      <td>2021-10-31 21:11:00.000</td>\n",
       "      <td>9efd7639-0ac6-4f4e-9f78-4694ae5c9578</td>\n",
       "      <td>40002</td>\n",
       "      <td>f8285120-4148-4307-9742-138e0e6591ad</td>\n",
       "    </tr>\n",
       "    <tr>\n",
       "      <th>2021-11-01 06:11:00</th>\n",
       "      <td>2021-10-31 21:11:00.000</td>\n",
       "      <td>2021-10-31 21:15:00.000</td>\n",
       "      <td>9efd7639-0ac6-4f4e-9f78-4694ae5c9578</td>\n",
       "      <td>40001</td>\n",
       "      <td>2e3e8ea3-cc06-4bf2-8e15-21d113734f5a</td>\n",
       "    </tr>\n",
       "    <tr>\n",
       "      <th>2021-11-01 06:24:00</th>\n",
       "      <td>2021-10-31 21:24:00.000</td>\n",
       "      <td>2021-10-31 21:44:00.000</td>\n",
       "      <td>72de7b79-d877-4085-9a57-2af75d9d798c</td>\n",
       "      <td>40002</td>\n",
       "      <td>d42f8740-2f86-4e24-8f73-2eda89f4dcc4</td>\n",
       "    </tr>\n",
       "    <tr>\n",
       "      <th>2021-11-01 06:44:00</th>\n",
       "      <td>2021-10-31 21:44:00.000</td>\n",
       "      <td>2021-10-31 21:48:00.000</td>\n",
       "      <td>72de7b79-d877-4085-9a57-2af75d9d798c</td>\n",
       "      <td>40003</td>\n",
       "      <td>0a5a9a48-6a8a-4c52-a297-b4a5cccc49aa</td>\n",
       "    </tr>\n",
       "  </tbody>\n",
       "</table>\n",
       "<p>1873 rows × 5 columns</p>\n",
       "</div>"
      ],
      "text/plain": [
       "                                  start_time                 end_time  \\\n",
       "change_time                                                             \n",
       "2021-09-30 23:15:00  2021-09-30 14:15:00.000  2021-09-30 14:31:00.000   \n",
       "2021-09-30 23:31:00  2021-09-30 14:31:00.000  2021-09-30 14:32:00.000   \n",
       "2021-09-30 23:32:00  2021-09-30 14:32:00.000  2021-09-30 14:48:00.000   \n",
       "2021-09-30 23:48:00  2021-09-30 14:48:00.000  2021-09-30 15:01:00.000   \n",
       "2021-10-01 00:01:00  2021-09-30 15:01:00.000  2021-09-30 15:06:00.000   \n",
       "...                                      ...                      ...   \n",
       "2021-11-01 05:58:00  2021-10-31 20:58:00.000  2021-10-31 20:59:00.000   \n",
       "2021-11-01 05:59:00  2021-10-31 20:59:00.000  2021-10-31 21:11:00.000   \n",
       "2021-11-01 06:11:00  2021-10-31 21:11:00.000  2021-10-31 21:15:00.000   \n",
       "2021-11-01 06:24:00  2021-10-31 21:24:00.000  2021-10-31 21:44:00.000   \n",
       "2021-11-01 06:44:00  2021-10-31 21:44:00.000  2021-10-31 21:48:00.000   \n",
       "\n",
       "                                                 sleep_id  stage  \\\n",
       "change_time                                                        \n",
       "2021-09-30 23:15:00  936eb40a-a8c7-49b8-90c1-9e2450863b03  40002   \n",
       "2021-09-30 23:31:00  936eb40a-a8c7-49b8-90c1-9e2450863b03  40001   \n",
       "2021-09-30 23:32:00  936eb40a-a8c7-49b8-90c1-9e2450863b03  40002   \n",
       "2021-09-30 23:48:00  936eb40a-a8c7-49b8-90c1-9e2450863b03  40003   \n",
       "2021-10-01 00:01:00  936eb40a-a8c7-49b8-90c1-9e2450863b03  40002   \n",
       "...                                                   ...    ...   \n",
       "2021-11-01 05:58:00  9efd7639-0ac6-4f4e-9f78-4694ae5c9578  40001   \n",
       "2021-11-01 05:59:00  9efd7639-0ac6-4f4e-9f78-4694ae5c9578  40002   \n",
       "2021-11-01 06:11:00  9efd7639-0ac6-4f4e-9f78-4694ae5c9578  40001   \n",
       "2021-11-01 06:24:00  72de7b79-d877-4085-9a57-2af75d9d798c  40002   \n",
       "2021-11-01 06:44:00  72de7b79-d877-4085-9a57-2af75d9d798c  40003   \n",
       "\n",
       "                                                 datauuid  \n",
       "change_time                                                \n",
       "2021-09-30 23:15:00  28f708e2-f618-4746-9aac-07fcffedb2b0  \n",
       "2021-09-30 23:31:00  c0d1a5c0-4d38-4d40-ac65-4777f886e84b  \n",
       "2021-09-30 23:32:00  6942b41c-95e0-4fdf-8a87-0dce28752933  \n",
       "2021-09-30 23:48:00  245f78f5-8e21-48a7-97ad-dfcf5f0c97a1  \n",
       "2021-10-01 00:01:00  c7510319-4992-4ae2-bf10-42e58649ad5f  \n",
       "...                                                   ...  \n",
       "2021-11-01 05:58:00  ebee3359-cc1c-4470-bb20-a7ecaca18ef4  \n",
       "2021-11-01 05:59:00  f8285120-4148-4307-9742-138e0e6591ad  \n",
       "2021-11-01 06:11:00  2e3e8ea3-cc06-4bf2-8e15-21d113734f5a  \n",
       "2021-11-01 06:24:00  d42f8740-2f86-4e24-8f73-2eda89f4dcc4  \n",
       "2021-11-01 06:44:00  0a5a9a48-6a8a-4c52-a297-b4a5cccc49aa  \n",
       "\n",
       "[1873 rows x 5 columns]"
      ]
     },
     "execution_count": 16,
     "metadata": {},
     "output_type": "execute_result"
    }
   ],
   "source": [
    "sleep_stage=sleep_stage[[\"start_time\",\"change_time\",\"end_time\",\"sleep_id\",\"stage\",\"datauuid\"]]\n",
    "sleep_stage=sleep_stage.set_index(\"change_time\")\n",
    "sleep_stage"
   ]
  },
  {
   "cell_type": "code",
   "execution_count": 17,
   "metadata": {},
   "outputs": [],
   "source": [
    "select_stage=sleep_stage['2021-09-30':'2021-10-02']"
   ]
  },
  {
   "cell_type": "code",
   "execution_count": 18,
   "metadata": {},
   "outputs": [],
   "source": [
    "y=select_stage.stage\n",
    "x=select_stage.index"
   ]
  },
  {
   "cell_type": "code",
   "execution_count": 19,
   "metadata": {},
   "outputs": [
    {
     "data": {
      "image/png": "[encoded data removed]",
      "text/plain": [
       "<Figure size 1440x360 with 1 Axes>"
      ]
     },
     "metadata": {
      "needs_background": "light"
     },
     "output_type": "display_data"
    }
   ],
   "source": [
    "from matplotlib import pyplot as plt\n",
    "plt.figure(figsize=(20,5))\n",
    "plt.plot(x,y)\n",
    "plt.show()"
   ]
  }
 ],
 "metadata": {
  "interpreter": {
   "hash": "b7d2b50dfb143caa0ff2d8d3099925f53b50a7de95c55abccd57301453665077"
  },
  "kernelspec": {
   "display_name": "Python 3.9.6 64-bit",
   "language": "python",
   "name": "python3"
  },
  "language_info": {
   "codemirror_mode": {
    "name": "ipython",
    "version": 3
   },
   "file_extension": ".py",
   "mimetype": "text/x-python",
   "name": "python",
   "nbconvert_exporter": "python",
   "pygments_lexer": "ipython3",
   "version": "3.8.8"
  },
  "orig_nbformat": 4
 },
 "nbformat": 4,
 "nbformat_minor": 2
}
