{
 "cells": [
  {
   "cell_type": "code",
   "execution_count": 1,
   "metadata": {},
   "outputs": [],
   "source": [
    "import os\n",
    "import json\n",
    "import torch\n",
    "import torch.nn as nn\n",
    "import numpy as np\n",
    "import datetime\n",
    "from torchvision import transforms\n",
    "from torch.utils.data import DataLoader\n",
    "from pathlib import Path\n",
    "from sklearn.model_selection import train_test_split\n",
    "from sklearn.metrics import confusion_matrix, f1_score, classification_report, recall_score\n",
    "from sklearn.metrics import multilabel_confusion_matrix\n",
    "from helper import *"
   ]
  },
  {
   "cell_type": "code",
   "execution_count": 2,
   "metadata": {},
   "outputs": [],
   "source": [
    "LOG_PATH = Path('LOG')\n",
    "SHARE_PATH = Path('share')\n",
    "CHECKPOINT_PATH = Path('checkpoint')\n",
    "CFM_PATH = Path('cfm')\n",
    "\n",
    "np.set_printoptions(formatter={'float_kind': lambda x: \"{0:0.4f}\".format(x)})"
   ]
  },
  {
   "cell_type": "code",
   "execution_count": 3,
   "metadata": {},
   "outputs": [],
   "source": [
    "if not os.path.exists(CFM_PATH):\n",
    "    os.mkdir(CFM_PATH)"
   ]
  },
  {
   "cell_type": "code",
   "execution_count": 4,
   "metadata": {},
   "outputs": [],
   "source": [
    "root_path = Path(SHARE_PATH / \"2_test_210220 upload\")\n",
    "ann_path = root_path / 'Annotation_v3_Test_210224.json'\n",
    "\n",
    "image_size = 224\n",
    "batch_size = 1024\n",
    "device = 'cuda'\n",
    "num_classes = 3\n",
    "load_path = CHECKPOINT_PATH / 'resnet50.pth'\n",
    "\n",
    "cfm_logger = get_logger(LOG_PATH / 'conv_test_cfm.log', 'cfm')\n",
    "per_logger = get_logger(LOG_PATH / 'conv_test_per.log', 'per')"
   ]
  },
  {
   "cell_type": "code",
   "execution_count": 5,
   "metadata": {},
   "outputs": [],
   "source": [
    "label_names = ['Wake', 'LS', 'DS']"
   ]
  },
  {
   "cell_type": "code",
   "execution_count": 6,
   "metadata": {},
   "outputs": [],
   "source": [
    "test_transforms = transforms.Compose([transforms.Grayscale(),\n",
    "                                      transforms.Resize((image_size, image_size)),\n",
    "                                      transforms.ToTensor(),\n",
    "                                      transforms.Normalize(0.5, 0.5)])"
   ]
  },
  {
   "cell_type": "code",
   "execution_count": 7,
   "metadata": {},
   "outputs": [],
   "source": [
    "with open(ann_path, 'r') as f:\n",
    "    json_data = json.load(f)\n",
    "\n",
    "test_patients = json_data['Patient']\n",
    "\n",
    "test_dataset = SleepConvDataset(test_patients, root_path, test_transforms)\n",
    "\n",
    "test_loader = DataLoader(test_dataset,\n",
    "                         batch_size=batch_size,\n",
    "                         num_workers=8,\n",
    "                         pin_memory=True,\n",
    "                         shuffle=False)"
   ]
  },
  {
   "cell_type": "code",
   "execution_count": 8,
   "metadata": {},
   "outputs": [],
   "source": [
    "paths = np.array(test_dataset.paths)\n",
    "labels = np.array(test_dataset.labels)"
   ]
  },
  {
   "cell_type": "code",
   "execution_count": 9,
   "metadata": {},
   "outputs": [],
   "source": [
    "test_total = len(test_dataset)\n",
    "\n",
    "criterion = nn.CrossEntropyLoss().to(device)\n",
    "\n",
    "model = get_resnet50(num_classes, pretrained=False)\n",
    "model = nn.DataParallel(model)\n",
    "model.load_state_dict(torch.load(load_path, map_location=torch.device(device)))\n",
    "model = model.to(device)"
   ]
  },
  {
   "cell_type": "code",
   "execution_count": 10,
   "metadata": {},
   "outputs": [],
   "source": [
    "utcnow = datetime.datetime.utcnow()\n",
    "time_gap = datetime.timedelta(hours=9)\n",
    "kor_time = utcnow + time_gap\n",
    "\n",
    "per_logger.info(f\"현재 시간 : {kor_time}\")"
   ]
  },
  {
   "cell_type": "code",
   "execution_count": 11,
   "metadata": {},
   "outputs": [
    {
     "name": "stderr",
     "output_type": "stream",
     "text": [
      "100%|██████████| 1551/1551 [2:01:04<00:00,  4.68s/it]  \n"
     ]
    }
   ],
   "source": [
    "model.eval()\n",
    "\n",
    "test_correct = 0\n",
    "test_loss = 0\n",
    "test_total = len(test_loader)\n",
    "\n",
    "total_labels = []\n",
    "total_predicted = []\n",
    "\n",
    "for (data, labels, file_name) in tqdm(test_loader, total=test_total):\n",
    "    data = data.float().to(device)\n",
    "    labels = labels.long().to(device)\n",
    "\n",
    "    pred = model(data)\n",
    "    _, predicted = torch.max(pred, 1)\n",
    "    \n",
    "    prob_array = pred.softmax(-1).detach().cpu().numpy().round(4)\n",
    "    label_array = labels.detach().cpu().numpy()\n",
    "    predicted_array = predicted.detach().cpu().numpy()\n",
    "    \n",
    "    test_correct += (predicted == labels).sum().item()\n",
    "    \n",
    "    total_labels += list(label_array)\n",
    "    total_predicted += list(predicted_array)\n",
    "    \n",
    "    for name, prob, true, pred in zip(file_name, prob_array, label_array, predicted_array):\n",
    "        answer = \"정답\" if true == pred else \"오답\"\n",
    "        \n",
    "        per_logger.info(f'{name},{label_names[true]},{label_names[pred]},{prob},{answer}')"
   ]
  },
  {
   "cell_type": "code",
   "execution_count": 12,
   "metadata": {},
   "outputs": [
    {
     "name": "stdout",
     "output_type": "stream",
     "text": [
      "총 이미지 파일 개수 : 1587439\n"
     ]
    }
   ],
   "source": [
    "print(f\"총 이미지 파일 개수 : {len(test_dataset)}\")"
   ]
  },
  {
   "cell_type": "code",
   "execution_count": 13,
   "metadata": {},
   "outputs": [],
   "source": [
    "cfm_logger.info(f\"현재 시간 : {datetime.datetime.now()}\")"
   ]
  },
  {
   "cell_type": "code",
   "execution_count": 14,
   "metadata": {},
   "outputs": [],
   "source": [
    "total_labels = np.array(total_labels)\n",
    "total_predicted = np.array(total_predicted)"
   ]
  },
  {
   "cell_type": "code",
   "execution_count": 15,
   "metadata": {},
   "outputs": [
    {
     "name": "stdout",
     "output_type": "stream",
     "text": [
      "Normalized confusion matrix\n"
     ]
    },
    {
     "data": {
      "image/png": "[encoded data removed]",
      "text/plain": [
       "<Figure size 432x288 with 2 Axes>"
      ]
     },
     "metadata": {
      "needs_background": "light"
     },
     "output_type": "display_data"
    }
   ],
   "source": [
    "test_acc = test_correct / test_total\n",
    "\n",
    "metrics = confusion_matrix(total_labels, total_predicted, labels=[0, 1, 2])\n",
    "\n",
    "f1 = f1_score(total_labels, total_predicted, average=None)\n",
    "f1_macro = f1_score(total_labels, total_predicted, average='macro')\n",
    "f1_micro = f1_score(total_labels, total_predicted, average='micro')\n",
    "f1_weighted = f1_score(total_labels, total_predicted, average='weighted')\n",
    "\n",
    "plot_confusion_matrix(metrics, \n",
    "                      classes=['Wake', 'LS', 'DS'], \n",
    "                      normalize=True, \n",
    "                      title='Confusion matrix', \n",
    "                      save_path=CFM_PATH / 'conv_ls_ds_cfm')\n",
    "\n",
    "mcm = multilabel_confusion_matrix(total_labels, total_predicted)\n",
    "\n",
    "spec = []\n",
    "pre = []\n",
    "re = []\n",
    "\n",
    "for m in mcm:\n",
    "    tn = m[0][0]\n",
    "    fp = m[0][1]\n",
    "    fn = m[1][0]\n",
    "    tp = m[1][1]\n",
    "    \n",
    "    spec.append(tn / (tn + fp))\n",
    "    re.append(tp / (tp + fn))\n",
    "    pre.append(tp / (tp + fp))\n",
    "\n",
    "cfm_logger.info(\"==============================================================\")\n",
    "cfm_logger.info(\"============= Wake, LightSleep, DeepSleep  ===================\")\n",
    "cfm_logger.info(\"==============================================================\")\n",
    "cfm_logger.info(classification_report(total_labels, total_predicted, target_names=label_names, digits=4))\n",
    "cfm_logger.info(f\"Specificity : {np.array(spec).mean():.4f}\")\n",
    "cfm_logger.info(f\"Precision : {np.array(pre).mean():.4f}\")\n",
    "cfm_logger.info(f\"Recall : {np.array(re).mean():.4f}\")\n",
    "cfm_logger.info(f\"F1 socre macro : {f1_macro:.4f}\")\n",
    "cfm_logger.info(f\"F1 socre micro : {f1_micro:.4f}\")\n",
    "cfm_logger.info(f\"F1 socre weighted : {f1_weighted:.4f}\")\n",
    "cfm_logger.info(\"==============================================================\")"
   ]
  },
  {
   "cell_type": "code",
   "execution_count": null,
   "metadata": {},
   "outputs": [],
   "source": []
  }
 ],
 "metadata": {
  "kernelspec": {
   "display_name": "Python 3",
   "language": "python",
   "name": "python3"
  },
  "language_info": {
   "codemirror_mode": {
    "name": "ipython",
    "version": 3
   },
   "file_extension": ".py",
   "mimetype": "text/x-python",
   "name": "python",
   "nbconvert_exporter": "python",
   "pygments_lexer": "ipython3",
   "version": "3.8.3"
  }
 },
 "nbformat": 4,
 "nbformat_minor": 4
}
