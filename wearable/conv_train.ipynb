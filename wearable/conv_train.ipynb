{
 "cells": [
  {
   "cell_type": "code",
   "execution_count": 1,
   "metadata": {},
   "outputs": [],
   "source": [
    "import os\n",
    "import json\n",
    "import torch\n",
    "import torch.nn as nn\n",
    "import numpy as np\n",
    "from torchvision import transforms\n",
    "from torch.utils.data import DataLoader\n",
    "from pathlib import Path\n",
    "from sklearn.model_selection import train_test_split\n",
    "from helper import *"
   ]
  },
  {
   "cell_type": "code",
   "execution_count": 2,
   "metadata": {},
   "outputs": [],
   "source": [
    "LOG_PATH = Path('LOG')\n",
    "SHARE_PATH = Path('share')\n",
    "CHECKPOINT_PATH = Path('checkpoint')"
   ]
  },
  {
   "cell_type": "code",
   "execution_count": 3,
   "metadata": {},
   "outputs": [],
   "source": [
    "if not os.path.exists(LOG_PATH):\n",
    "    os.mkdir(LOG_PATH)\n",
    "\n",
    "if not os.path.exists(CHECKPOINT_PATH):\n",
    "    os.mkdir(CHECKPOINT_PATH)"
   ]
  },
  {
   "cell_type": "code",
   "execution_count": 4,
   "metadata": {},
   "outputs": [],
   "source": [
    "logger = get_logger(LOG_PATH / 'conv_train.log', 'conv_train')"
   ]
  },
  {
   "cell_type": "code",
   "execution_count": 5,
   "metadata": {},
   "outputs": [],
   "source": [
    "random_state = 777\n",
    "\n",
    "root_path = SHARE_PATH / '1_train+val_210220 upload'\n",
    "ann_path = root_path / 'Annotation_v2_Train+Val_210208.json'\n",
    "save_path = CHECKPOINT_PATH / 'resnet50.pth'\n",
    "\n",
    "image_size = 224\n",
    "batch_size = 1024\n",
    "lr = 0.01\n",
    "epoch = 30\n",
    "device = 'cuda'\n",
    "num_classes = 3\n",
    "n_splits = 5"
   ]
  },
  {
   "cell_type": "code",
   "execution_count": 6,
   "metadata": {},
   "outputs": [],
   "source": [
    "train_transforms = transforms.Compose([transforms.Grayscale(),\n",
    "                                       transforms.Resize((image_size, image_size)),\n",
    "                                       transforms.ToTensor(),\n",
    "                                       transforms.Normalize(0.5, 0.5)])\n",
    "\n",
    "test_transforms = transforms.Compose([transforms.Grayscale(),\n",
    "                                      transforms.Resize((image_size, image_size)),\n",
    "                                      transforms.ToTensor(),\n",
    "                                      transforms.Normalize(0.5, 0.5)])"
   ]
  },
  {
   "cell_type": "code",
   "execution_count": 7,
   "metadata": {},
   "outputs": [],
   "source": [
    "with open(ann_path, 'r') as f:\n",
    "    json_data = json.load(f)\n",
    "    \n",
    "patients = json_data['Patient']"
   ]
  },
  {
   "cell_type": "code",
   "execution_count": 8,
   "metadata": {},
   "outputs": [],
   "source": [
    "train_patients, valid_patients = train_test_split(patients, test_size=0.2, random_state=random_state)"
   ]
  },
  {
   "cell_type": "code",
   "execution_count": 9,
   "metadata": {},
   "outputs": [
    {
     "name": "stdout",
     "output_type": "stream",
     "text": [
      "TRAIN Patients : 3944\n",
      "VALID Patients : 986\n"
     ]
    }
   ],
   "source": [
    "print(f\"TRAIN Patients : {len(train_patients)}\")\n",
    "print(f\"VALID Patients : {len(valid_patients)}\")"
   ]
  },
  {
   "cell_type": "code",
   "execution_count": 10,
   "metadata": {},
   "outputs": [],
   "source": [
    "train_dataset = SleepConvDataset(train_patients, root_path, train_transforms)\n",
    "valid_dataset = SleepConvDataset(valid_patients, root_path, test_transforms)"
   ]
  },
  {
   "cell_type": "code",
   "execution_count": 11,
   "metadata": {},
   "outputs": [],
   "source": [
    "train_loader = DataLoader(train_dataset,\n",
    "                           batch_size=batch_size,\n",
    "                           num_workers=8,\n",
    "                           pin_memory=True,\n",
    "                           shuffle=True)\n",
    "\n",
    "valid_loader = DataLoader(valid_dataset,\n",
    "                           batch_size=batch_size,\n",
    "                           num_workers=8,\n",
    "                           pin_memory=True,\n",
    "                           shuffle=True)"
   ]
  },
  {
   "cell_type": "code",
   "execution_count": 12,
   "metadata": {},
   "outputs": [
    {
     "name": "stderr",
     "output_type": "stream",
     "text": [
      "100%|██████████| 2782/2782 [3:40:28<00:00,  4.75s/it]  \n",
      "100%|██████████| 698/698 [56:03<00:00,  4.82s/it]  \n"
     ]
    },
    {
     "name": "stdout",
     "output_type": "stream",
     "text": [
      "Validation loss decreased (inf --> 0.000388).  Saving model ...\n"
     ]
    },
    {
     "name": "stderr",
     "output_type": "stream",
     "text": [
      "100%|██████████| 2782/2782 [3:43:14<00:00,  4.81s/it]  \n",
      "100%|██████████| 698/698 [56:01<00:00,  4.82s/it]  \n"
     ]
    },
    {
     "name": "stdout",
     "output_type": "stream",
     "text": [
      "Validation loss decreased (0.000388 --> 0.000358).  Saving model ...\n"
     ]
    },
    {
     "name": "stderr",
     "output_type": "stream",
     "text": [
      "100%|██████████| 2782/2782 [3:42:05<00:00,  4.79s/it]  \n",
      "100%|██████████| 698/698 [56:35<00:00,  4.86s/it]  \n",
      "  0%|          | 0/2782 [00:00<?, ?it/s]"
     ]
    },
    {
     "name": "stdout",
     "output_type": "stream",
     "text": [
      "EarlyStopping counter: 1 out of 7\n"
     ]
    },
    {
     "name": "stderr",
     "output_type": "stream",
     "text": [
      "100%|██████████| 2782/2782 [3:42:37<00:00,  4.80s/it]  \n",
      "100%|██████████| 698/698 [56:15<00:00,  4.84s/it]  \n"
     ]
    },
    {
     "name": "stdout",
     "output_type": "stream",
     "text": [
      "Validation loss decreased (0.000358 --> 0.000354).  Saving model ...\n"
     ]
    },
    {
     "name": "stderr",
     "output_type": "stream",
     "text": [
      "100%|██████████| 2782/2782 [3:42:18<00:00,  4.79s/it]  \n",
      "100%|██████████| 698/698 [56:05<00:00,  4.82s/it]  \n",
      "  0%|          | 0/2782 [00:00<?, ?it/s]"
     ]
    },
    {
     "name": "stdout",
     "output_type": "stream",
     "text": [
      "EarlyStopping counter: 1 out of 7\n"
     ]
    },
    {
     "name": "stderr",
     "output_type": "stream",
     "text": [
      "100%|██████████| 2782/2782 [3:41:21<00:00,  4.77s/it]  \n",
      "100%|██████████| 698/698 [55:56<00:00,  4.81s/it]  \n",
      "  0%|          | 0/2782 [00:00<?, ?it/s]"
     ]
    },
    {
     "name": "stdout",
     "output_type": "stream",
     "text": [
      "EarlyStopping counter: 2 out of 7\n"
     ]
    },
    {
     "name": "stderr",
     "output_type": "stream",
     "text": [
      "100%|██████████| 2782/2782 [3:43:44<00:00,  4.83s/it]  \n",
      "100%|██████████| 698/698 [56:02<00:00,  4.82s/it]  \n",
      "  0%|          | 0/2782 [00:00<?, ?it/s]"
     ]
    },
    {
     "name": "stdout",
     "output_type": "stream",
     "text": [
      "EarlyStopping counter: 3 out of 7\n"
     ]
    },
    {
     "name": "stderr",
     "output_type": "stream",
     "text": [
      "100%|██████████| 2782/2782 [3:40:22<00:00,  4.75s/it]  \n",
      "100%|██████████| 698/698 [55:35<00:00,  4.78s/it]  \n",
      "  0%|          | 0/2782 [00:00<?, ?it/s]"
     ]
    },
    {
     "name": "stdout",
     "output_type": "stream",
     "text": [
      "EarlyStopping counter: 4 out of 7\n"
     ]
    },
    {
     "name": "stderr",
     "output_type": "stream",
     "text": [
      "100%|██████████| 2782/2782 [3:39:29<00:00,  4.73s/it]  \n",
      "100%|██████████| 698/698 [55:25<00:00,  4.76s/it]  \n",
      "  0%|          | 0/2782 [00:00<?, ?it/s]"
     ]
    },
    {
     "name": "stdout",
     "output_type": "stream",
     "text": [
      "EarlyStopping counter: 5 out of 7\n"
     ]
    },
    {
     "name": "stderr",
     "output_type": "stream",
     "text": [
      "100%|██████████| 2782/2782 [3:40:09<00:00,  4.75s/it]  \n",
      "100%|██████████| 698/698 [55:36<00:00,  4.78s/it]  \n",
      "  0%|          | 0/2782 [00:00<?, ?it/s]"
     ]
    },
    {
     "name": "stdout",
     "output_type": "stream",
     "text": [
      "EarlyStopping counter: 6 out of 7\n"
     ]
    },
    {
     "name": "stderr",
     "output_type": "stream",
     "text": [
      "100%|██████████| 2782/2782 [3:41:07<00:00,  4.77s/it]  \n",
      "100%|██████████| 698/698 [55:54<00:00,  4.81s/it]  "
     ]
    },
    {
     "name": "stdout",
     "output_type": "stream",
     "text": [
      "EarlyStopping counter: 7 out of 7\n"
     ]
    },
    {
     "name": "stderr",
     "output_type": "stream",
     "text": [
      "\n"
     ]
    }
   ],
   "source": [
    "early_stopping = EarlyStopping(verbose=True, path=save_path)\n",
    "\n",
    "train_total = len(train_dataset)\n",
    "valid_total = len(valid_dataset)\n",
    "\n",
    "model = get_resnet50(num_classes, pretrained=True)\n",
    "model = nn.DataParallel(model)\n",
    "model = model.to(device)\n",
    "\n",
    "criterion = nn.CrossEntropyLoss().to(device)\n",
    "optimizer = torch.optim.SGD(model.parameters(), lr=lr, weight_decay=1e-5, momentum=0.9)\n",
    "scheduler = torch.optim.lr_scheduler.MultiStepLR(optimizer, [10, 20], gamma=0.1)\n",
    "\n",
    "for e in range(0, epoch):\n",
    "    train_correct, train_loss = train(model, train_loader, optimizer, criterion, device=device)\n",
    "    train_acc = train_correct / train_total\n",
    "    train_loss = train_loss / train_total\n",
    "\n",
    "    valid_correct, valid_loss = valid(model, valid_loader, criterion, device=device)\n",
    "    valid_acc = valid_correct / valid_total\n",
    "    valid_loss = valid_loss / valid_total\n",
    "\n",
    "    scheduler.step()\n",
    "\n",
    "    logger.info(\"===============================================================\")\n",
    "    logger.info(\"===============================================================\")\n",
    "    logger.info(f\"||    EPOCH : {epoch} / {e}]   ||\")\n",
    "    logger.info(f\"|| [TRAIN ACC : {train_acc}] || [TRAIN LOSS : {train_loss}] ||\")\n",
    "    logger.info(f\"|| [VALID ACC : {valid_acc}] || [VALID LOSS : {valid_loss}] ||\")\n",
    "    logger.info(\"===============================================================\")\n",
    "    logger.info(\"===============================================================\")\n",
    "\n",
    "    early_stopping(valid_loss, model)\n",
    "\n",
    "    if early_stopping.early_stop:\n",
    "        logger.info(\"Early stopping\")\n",
    "        break\n",
    "\n",
    "    model.load_state_dict(torch.load(save_path))"
   ]
  },
  {
   "cell_type": "code",
   "execution_count": null,
   "metadata": {},
   "outputs": [],
   "source": []
  }
 ],
 "metadata": {
  "kernelspec": {
   "display_name": "Python 3",
   "language": "python",
   "name": "python3"
  },
  "language_info": {
   "codemirror_mode": {
    "name": "ipython",
    "version": 3
   },
   "file_extension": ".py",
   "mimetype": "text/x-python",
   "name": "python",
   "nbconvert_exporter": "python",
   "pygments_lexer": "ipython3",
   "version": "3.8.3"
  }
 },
 "nbformat": 4,
 "nbformat_minor": 4
}
